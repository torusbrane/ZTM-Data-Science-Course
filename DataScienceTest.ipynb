{
 "cells": [
  {
   "cell_type": "code",
   "execution_count": 40,
   "id": "5a336d8a",
   "metadata": {},
   "outputs": [
    {
     "data": {
      "text/plain": [
       "(18147, 58)"
      ]
     },
     "execution_count": 40,
     "metadata": {},
     "output_type": "execute_result"
    }
   ],
   "source": [
    "import pandas as pd\n",
    "data_frame = pd.read_csv('FIFA19.csv')\n",
    "data_frame.shape"
   ]
  },
  {
   "cell_type": "code",
   "execution_count": 46,
   "id": "40ea28b4",
   "metadata": {},
   "outputs": [
    {
     "data": {
      "text/html": [
       "<div>\n",
       "<style scoped>\n",
       "    .dataframe tbody tr th:only-of-type {\n",
       "        vertical-align: middle;\n",
       "    }\n",
       "\n",
       "    .dataframe tbody tr th {\n",
       "        vertical-align: top;\n",
       "    }\n",
       "\n",
       "    .dataframe thead th {\n",
       "        text-align: right;\n",
       "    }\n",
       "</style>\n",
       "<table border=\"1\" class=\"dataframe\">\n",
       "  <thead>\n",
       "    <tr style=\"text-align: right;\">\n",
       "      <th></th>\n",
       "      <th>Name</th>\n",
       "      <th>Wage</th>\n",
       "      <th>Value</th>\n",
       "      <th>difference</th>\n",
       "    </tr>\n",
       "  </thead>\n",
       "  <tbody>\n",
       "    <tr>\n",
       "      <th>2</th>\n",
       "      <td>Neymar Jr</td>\n",
       "      <td>290000.0</td>\n",
       "      <td>118500000.0</td>\n",
       "      <td>118210000.0</td>\n",
       "    </tr>\n",
       "    <tr>\n",
       "      <th>0</th>\n",
       "      <td>L. Messi</td>\n",
       "      <td>565000.0</td>\n",
       "      <td>110500000.0</td>\n",
       "      <td>109935000.0</td>\n",
       "    </tr>\n",
       "    <tr>\n",
       "      <th>4</th>\n",
       "      <td>K. De Bruyne</td>\n",
       "      <td>355000.0</td>\n",
       "      <td>102000000.0</td>\n",
       "      <td>101645000.0</td>\n",
       "    </tr>\n",
       "    <tr>\n",
       "      <th>5</th>\n",
       "      <td>E. Hazard</td>\n",
       "      <td>340000.0</td>\n",
       "      <td>93000000.0</td>\n",
       "      <td>92660000.0</td>\n",
       "    </tr>\n",
       "    <tr>\n",
       "      <th>15</th>\n",
       "      <td>P. Dybala</td>\n",
       "      <td>205000.0</td>\n",
       "      <td>89000000.0</td>\n",
       "      <td>88795000.0</td>\n",
       "    </tr>\n",
       "    <tr>\n",
       "      <th>...</th>\n",
       "      <td>...</td>\n",
       "      <td>...</td>\n",
       "      <td>...</td>\n",
       "      <td>...</td>\n",
       "    </tr>\n",
       "    <tr>\n",
       "      <th>17158</th>\n",
       "      <td>K. Taimi</td>\n",
       "      <td>NaN</td>\n",
       "      <td>NaN</td>\n",
       "      <td>NaN</td>\n",
       "    </tr>\n",
       "    <tr>\n",
       "      <th>17612</th>\n",
       "      <td>R. Kawai</td>\n",
       "      <td>1000.0</td>\n",
       "      <td>NaN</td>\n",
       "      <td>NaN</td>\n",
       "    </tr>\n",
       "    <tr>\n",
       "      <th>17666</th>\n",
       "      <td>T. Warner</td>\n",
       "      <td>1000.0</td>\n",
       "      <td>NaN</td>\n",
       "      <td>NaN</td>\n",
       "    </tr>\n",
       "    <tr>\n",
       "      <th>17692</th>\n",
       "      <td>S. Phillips</td>\n",
       "      <td>1000.0</td>\n",
       "      <td>NaN</td>\n",
       "      <td>NaN</td>\n",
       "    </tr>\n",
       "    <tr>\n",
       "      <th>18123</th>\n",
       "      <td>K. Pilkington</td>\n",
       "      <td>1000.0</td>\n",
       "      <td>NaN</td>\n",
       "      <td>NaN</td>\n",
       "    </tr>\n",
       "  </tbody>\n",
       "</table>\n",
       "<p>18147 rows × 4 columns</p>\n",
       "</div>"
      ],
      "text/plain": [
       "                Name      Wage        Value   difference\n",
       "2          Neymar Jr  290000.0  118500000.0  118210000.0\n",
       "0           L. Messi  565000.0  110500000.0  109935000.0\n",
       "4       K. De Bruyne  355000.0  102000000.0  101645000.0\n",
       "5          E. Hazard  340000.0   93000000.0   92660000.0\n",
       "15         P. Dybala  205000.0   89000000.0   88795000.0\n",
       "...              ...       ...          ...          ...\n",
       "17158       K. Taimi       NaN          NaN          NaN\n",
       "17612       R. Kawai    1000.0          NaN          NaN\n",
       "17666      T. Warner    1000.0          NaN          NaN\n",
       "17692    S. Phillips    1000.0          NaN          NaN\n",
       "18123  K. Pilkington    1000.0          NaN          NaN\n",
       "\n",
       "[18147 rows x 4 columns]"
      ]
     },
     "execution_count": 46,
     "metadata": {},
     "output_type": "execute_result"
    }
   ],
   "source": [
    "df1 = pd.DataFrame(data_frame, columns=['Name', 'Wage', 'Value'])\n",
    "def value_to_float(x):\n",
    "    if type(x) == float or type(x) == int:\n",
    "        return x\n",
    "    if 'K' in x:\n",
    "        if len(x) > 1:\n",
    "            return float(x.replace('K', '')) * 1000\n",
    "        return 1000.0\n",
    "    if 'M' in x:\n",
    "        if len(x) > 1:\n",
    "            return float(x.replace('M', '')) * 1000000\n",
    "        return 1000000.0\n",
    "value = df1['Value'].replace('[\\€,]', '', regex=True).apply(value_to_float)\n",
    "wage = df1['Wage'].replace('[\\€,]', '', regex=True).apply(value_to_float)\n",
    "df1['Value'] = value\n",
    "df1['Wage'] = wage\n",
    "df1['difference'] = df1['Value'] - df1['Wage']\n",
    "df1.sort_values('difference', ascending=False)\n"
   ]
  },
  {
   "cell_type": "code",
   "execution_count": 54,
   "id": "f844e2d1",
   "metadata": {
    "scrolled": true
   },
   "outputs": [
    {
     "data": {
      "text/plain": [
       "<Axes: xlabel='Wage', ylabel='Value'>"
      ]
     },
     "execution_count": 54,
     "metadata": {},
     "output_type": "execute_result"
    },
    {
     "data": {
      "image/png": "[encoded data removed]",
      "text/plain": [
       "<Figure size 640x480 with 1 Axes>"
      ]
     },
     "metadata": {},
     "output_type": "display_data"
    }
   ],
   "source": [
    "import seaborn as sns\n",
    "sns.set()\n",
    "\n",
    "graph = sns.scatterplot(x='Wage', y='Value', data = df1)\n",
    "graph"
   ]
  },
  {
   "cell_type": "code",
   "execution_count": 55,
   "id": "26ef1564",
   "metadata": {},
   "outputs": [],
   "source": [
    "from bokeh.plotting import figure,show\n",
    "from bokeh.models import HoverTool\n",
    "\n",
    "TOOLTIPS = HoverTool(tooltips=[\n",
    "    ('index', '$index'),\n",
    "    ('(Wage, Value)', '(@Wage, @Value)'),\n",
    "    ('Name', '@Name')\n",
    "])\n",
    "\n",
    "p = figure(width = 1200, height = 1200, title = \"FIFA 2019\", toolbar_location=None, tools=[TOOLTIPS])\n",
    "p.xaxis.axis_label = \"Wage\"\n",
    "p.yaxis.axis_label = \"Value\"\n",
    "p.yaxis.major_label_orientation = \"vertical\"\n",
    "p.circle('Wage', 'Value', size = 5, source = df1)\n",
    "show(p)"
   ]
  },
  {
   "cell_type": "code",
   "execution_count": 30,
   "id": "da9f81b3",
   "metadata": {},
   "outputs": [],
   "source": []
  },
  {
   "cell_type": "code",
   "execution_count": null,
   "id": "d1f3e303",
   "metadata": {},
   "outputs": [],
   "source": []
  }
 ],
 "metadata": {
  "kernelspec": {
   "display_name": "Python 3 (ipykernel)",
   "language": "python",
   "name": "python3"
  },
  "language_info": {
   "codemirror_mode": {
    "name": "ipython",
    "version": 3
   },
   "file_extension": ".py",
   "mimetype": "text/x-python",
   "name": "python",
   "nbconvert_exporter": "python",
   "pygments_lexer": "ipython3",
   "version": "3.10.9"
  }
 },
 "nbformat": 4,
 "nbformat_minor": 5
}
